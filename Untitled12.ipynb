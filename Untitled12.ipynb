{
 "cells": [
  {
   "cell_type": "code",
   "execution_count": 1,
   "metadata": {},
   "outputs": [
    {
     "data": {
      "text/plain": [
       "<Figure size 640x480 with 1 Axes>"
      ]
     },
     "metadata": {},
     "output_type": "display_data"
    }
   ],
   "source": [
    "import networkx as nx \n",
    "import matplotlib.pyplot as plt\n",
    "G=nx.DiGraph()\n",
    "G.add_edge('TAP MPR NO. XVII Tahun 1998','UU No. 5 Tahun 1998') \n",
    "G.add_edge('UU No. 5 Tahun 1998','PP No. 44 Tahun 2010') \n",
    "G.add_edge('PP No. 44 Tahun 2010','PerPres No. 69 Tahun 2008')\n",
    "G.add_edge('PP No. 44 Tahun 2010','PerPres No. 159 Tahun 2015')\n",
    "G.add_edge('PP No. 44 Tahun 2010','PerMen Kes No. 37 Tahun 2013')\n",
    "G.add_edge('PP No. 44 Tahun 2010','PerMen Kes No. 3 Tahun 2015')\n",
    "G.add_edge('PP No. 44 Tahun 2010','PerPres No. 69 Tahun 2008')\n",
    "G.add_edge('PP No. 44 Tahun 2010','PerMen dlm negri No. 44 Tahun 2010')\n",
    "G.add_edge('PP No. 44 Tahun 2010','PerDa Provinsi Jabar No. 3 Tahun 2008 ')\n",
    "nx.draw_networkx(G)\n",
    "plt.axis('off')\n",
    "plt.show() \n"
   ]
  },
  {
   "cell_type": "code",
   "execution_count": 12,
   "metadata": {},
   "outputs": [
    {
     "ename": "IndentationError",
     "evalue": "unexpected indent (<ipython-input-12-1396d210bf29>, line 2)",
     "output_type": "error",
     "traceback": [
      "\u001b[0;36m  File \u001b[0;32m\"<ipython-input-12-1396d210bf29>\"\u001b[0;36m, line \u001b[0;32m2\u001b[0m\n\u001b[0;31m    print(nx.clustering(P,1))\u001b[0m\n\u001b[0m    ^\u001b[0m\n\u001b[0;31mIndentationError\u001b[0m\u001b[0;31m:\u001b[0m unexpected indent\n"
     ]
    }
   ],
   "source": [
    "\n"
   ]
  },
  {
   "cell_type": "code",
   "execution_count": null,
   "metadata": {},
   "outputs": [],
   "source": []
  }
 ],
 "metadata": {
  "kernelspec": {
   "display_name": "Python 3",
   "language": "python",
   "name": "python3"
  },
  "language_info": {
   "codemirror_mode": {
    "name": "ipython",
    "version": 3
   },
   "file_extension": ".py",
   "mimetype": "text/x-python",
   "name": "python",
   "nbconvert_exporter": "python",
   "pygments_lexer": "ipython3",
   "version": "3.6.5"
  }
 },
 "nbformat": 4,
 "nbformat_minor": 2
}
